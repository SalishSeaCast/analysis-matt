{
 "cells": [
  {
   "cell_type": "markdown",
   "metadata": {},
   "source": [
    "### Table: 2-D test model iterations and parameter values\n",
    "| Iteration folder name | Date executed     | Time executed | Execution time    |  Parameter    |\n",
    "| ---                   | ---               | ---           | ---               | ---           |\n",
    "| iteration_1           | Feb. 18, 2025     | 5:06:05 PM    | 6m 50.2s          | X             |"
   ]
  }
 ],
 "metadata": {
  "language_info": {
   "name": "python"
  }
 },
 "nbformat": 4,
 "nbformat_minor": 2
}
