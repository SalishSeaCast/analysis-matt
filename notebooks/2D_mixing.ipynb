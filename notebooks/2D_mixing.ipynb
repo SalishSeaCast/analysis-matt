{
 "cells": [
  {
   "attachments": {},
   "cell_type": "markdown",
   "metadata": {},
   "source": [
    "Jose Valenti's 2-D testing notebook with SEA swimming kernel added"
   ]
  },
  {
   "cell_type": "code",
   "execution_count": null,
   "metadata": {},
   "outputs": [],
   "source": [
    "%matplotlib inline\n",
    "from parcels import Field, FieldSet, ParticleSet,Variable, JITParticle, ErrorCode\n",
    "import numpy as np\n",
    "import pandas as pd\n",
    "import matplotlib.pyplot as plt\n",
    "from matplotlib import rc, animation\n",
    "import xarray as xr\n",
    "from datetime import datetime\n",
    "import os\n",
    "\n",
    "from IPython.display import Image\n",
    "rc('animation', html='html5')"
   ]
  },
  {
   "cell_type": "code",
   "execution_count": null,
   "metadata": {},
   "outputs": [],
   "source": [
    "def make_prefix(date, res='h'):\n",
    "    \"\"\"Construct path prefix for local SalishSeaCast results given date object and paths dict\n",
    "    e.g., /results2/SalishSea/nowcast-green.201905/daymonthyear/SalishSea_1h_yyyymmdd_yyyymmdd\n",
    "    \"\"\"\n",
    "    path = '/results2/SalishSea/nowcast-green.202111/'\n",
    "    datestr = '_'.join(np.repeat(date.strftime('%Y%m%d'), 2))\n",
    "    folder = date.strftime(\"%d%b%y\").lower()\n",
    "    prefix = os.path.join(path, f'{folder}/SalishSea_1{res}_{datestr}')\n",
    "    \n",
    "    return prefix"
   ]
  },
  {
   "cell_type": "code",
   "execution_count": null,
   "metadata": {},
   "outputs": [],
   "source": [
    "# Pick hour,day and location.\n",
    "hour = 0 # ? Start hour of day in 24 hour format?\n",
    "path_NEMO = make_prefix(datetime(2018, 8, 1)) # Choose start year, month, day\n",
    "lati = 49.224563 # Choose coords\n",
    "loni = -123.605357\n",
    "jjii = xr.open_dataset('/home/sallen/MEOPAR/grid/grid_from_lat_lon_mask999.nc') # ? Does this retrieve the SalishSeaCast coordinate grid?\n",
    "j = [jjii.jj.sel(lats=lati, lons=loni, method='nearest').item()][0] # ? What do j and i represent, what is the difference between them, and why choose that notation?\n",
    "i = [jjii.ii.sel(lats=lati, lons=loni, method='nearest').item()][0]\n",
    "\n",
    "# Specify some simulation parameters\n",
    "T = 5e3 * 100 #s (run time)\n",
    "dt = 5 #s (timestep)\n",
    "N = 10e3 #number of particles\n",
    "outputdt = 500 #s (how often do you want output?)\n",
    "outputpath = '/ocean/mattmiller/MOAD/results/parcels/test/Outputmix_sink_and_swim.zarr'"
   ]
  },
  {
   "cell_type": "code",
   "execution_count": null,
   "metadata": {},
   "outputs": [],
   "source": [
    "def DeleteParticle(particle, fieldset, time):\n",
    "    \"\"\"Delete particle from OceanParcels simulation to avoid run failure\"\"\"\n",
    "    print(f'Particle {particle.id} lost !! [{particle.time}, {particle.depth}, {particle.lat}, {particle.lon}]')\n",
    "    particle.delete()"
   ]
  },
  {
   "cell_type": "code",
   "execution_count": null,
   "metadata": {},
   "outputs": [],
   "source": [
    "# Load data from NEMO\n",
    "Wdat = xr.open_dataset(path_NEMO+'_grid_W.nc', decode_times=False) # Opens the W grid data from SSC\n",
    "mbathy = xr.open_dataset('/ocean/jvalenti/MOAD/grid/mesh_mask202108.nc').mbathy[0,j,i].item() # ? Why is the value of this 37? What does it represent?\n",
    "depth = np.array(Wdat.depthw[:mbathy+1]).astype('float32') # ? Are these depth values the vertical grid spacing?\n",
    "Kz_col = np.array(Wdat.vert_eddy_diff[hour,:mbathy+1,j,i]).astype('float32') # Assigns the vertical_eddy_diffusivity values to \"Kz_col\"\n",
    "#Kz_col[0]=Kz_col[1] # ? Can I delete this line?"
   ]
  },
  {
   "cell_type": "code",
   "execution_count": null,
   "metadata": {},
   "outputs": [],
   "source": [
    "depth"
   ]
  },
  {
   "cell_type": "code",
   "execution_count": null,
   "metadata": {},
   "outputs": [],
   "source": [
    "depth2 = np.arange(depth[0],depth[-1],1)\n",
    "Kz2 = np.interp(depth2, depth, Kz_col)\n",
    "plt.plot(Kz_col,-depth)\n",
    "Kzp = np.gradient(Kz2, depth2[1]-depth2[0])\n",
    "Kzp2 = np.gradient(Kzp, depth2[1]-depth2[0])\n",
    "dtmax = np.min(1/abs(Kzp2))\n",
    "print(f'Dt should be << {dtmax}')"
   ]
  },
  {
   "cell_type": "code",
   "execution_count": null,
   "metadata": {},
   "outputs": [],
   "source": [
    "# Here you can define as many particle variables as you want specifying the initial values. In this case, I use the variable to set a constant.\n",
    "class MPParticle(JITParticle):\n",
    "    Kh = Variable('Kh', initial =  0.0) # If you want horizontal mixing activated change value here\n",
    "    bath = Variable('bath', initial= depth[-1])"
   ]
  },
  {
   "cell_type": "code",
   "execution_count": null,
   "metadata": {},
   "outputs": [],
   "source": [
    "# Mixing Kernel ? I'm not sure what most of these lines do. Could you annotate/explain?\n",
    "def tu_mix(particle,fieldset,time): \n",
    "    bath = particle.bath #109.73707\n",
    "    if particle.depth+1 > bath: #Forward euler\n",
    "        Kzdz = (fieldset.Kz[time,particle.depth,particle.lat, particle.lon]-fieldset.Kz[time,particle.depth-1,particle.lat, particle.lon]) #forward difference \n",
    "    else:\n",
    "        Kzdz = (fieldset.Kz[time,particle.depth+1,particle.lat, particle.lon]-fieldset.Kz[time,particle.depth,particle.lat, particle.lon]) #backward difference \n",
    "    dgrad = Kzdz * particle.dt \n",
    "    if particle.depth+0.5*dgrad > 0 and particle.depth+0.5*dgrad < bath:\n",
    "        kk = fieldset.Kz[time,particle.depth+0.5*dgrad,particle.lat, particle.lon] #Vertical diffusivity SSC  \n",
    "    else:\n",
    "        kk = fieldset.Kz[time, bath,particle.lat, particle.lon] #Vertical diffusivity SSC \n",
    "    Kx = particle.Kh\n",
    "    Rr = ParcelsRandom.uniform(-1, 1)\n",
    "    Rr2 = ParcelsRandom.uniform(-1, 1)\n",
    "    d_random = sqrt(3*2*kk*particle.dt) * Rr\n",
    "    d_randomx = sqrt(3*2*Kx*particle.dt) * Rr2\n",
    "    Dlayerz = 0.5*sqrt(kk * particle.dt) #1m mixing layer\n",
    "    Dlayerx = 0.5*sqrt(Kx * particle.dt)\n",
    "    if particle.lon + d_randomx < 0:\n",
    "        particle.lon = Dlayerx * ParcelsRandom.uniform(0, 1)\n",
    "    elif particle.lon + d_randomx > 2e3:\n",
    "        particle.lon = 2e3 - Dlayerx * ParcelsRandom.uniform(0, 1)\n",
    "    else: \n",
    "        particle.lon=particle.lon + d_randomx\n",
    "    if d_random + dgrad +particle.depth > bath: #randomly in boundary mixed layer\n",
    "        particle.depth = bath - Dlayerz * ParcelsRandom.uniform(0, 1)\n",
    "    elif d_random +particle.depth +dgrad < 0:\n",
    "            particle.depth = Dlayerz * ParcelsRandom.uniform(0, 1) #Well mixed boundary layer\n",
    "    else:\n",
    "        particle.depth += d_random + dgrad "
   ]
  },
  {
   "cell_type": "code",
   "execution_count": null,
   "metadata": {},
   "outputs": [],
   "source": [
    "#Swimming Kernel\n",
    "def tu_swim(particle, fieldset, time):\n",
    "    mbath = particle.bath\n",
    "    sink = 20e-3\n",
    "    swim = 32.5e-3\n",
    "    dt = 200 # how often they change direction\n",
    "    kappa = swim**2 * dt # Double asterisk means exponential\n",
    "    eff_swim = sqrt(kappa / particle.dt)\n",
    "\n",
    "    upward = 1.05   # tendency to swim more upward than sink\n",
    "    zswim = (- particle.dt * (upward-1)*sink + particle.dt * \n",
    "             (eff_swim - upward*sink) * math.cos(ParcelsRandom.uniform(0, 2* math.pi))) # ? I don't understand the math behind this\n",
    "    if particle.depth + zswim < 0:\n",
    "        particle.depth = 0\n",
    "    elif particle.depth + zswim > mbath:\n",
    "        particle.depth = mbath\n",
    "    else:\n",
    "        particle.depth += zswim"
   ]
  },
  {
   "cell_type": "code",
   "execution_count": null,
   "metadata": {},
   "outputs": [],
   "source": [
    "#Define domain, velocity fields and Kz \n",
    "dim = 100\n",
    "dep = len(depth)\n",
    "lon = np.linspace(0., 2e3, dim, dtype=np.float32)\n",
    "\n",
    "#Build fieldsets for OP\n",
    "U = Field('U', np.zeros((dep, dim), dtype=np.float32), lon=lon, depth=depth) # ? Is this just setting U and V to 0 because we are only using W data?\n",
    "V = Field('V', np.zeros((dep, dim), dtype=np.float32), lon=lon, depth=depth)\n",
    "Kz_data = np.zeros((dep, dim), dtype=np.float32)\n",
    "for i in range(dim):\n",
    "    Kz_data[:,i]=Kz_col   \n",
    "Kz = Field('Kz', Kz_data, grid=U.grid)\n",
    "fieldset = FieldSet(U,V)\n",
    "fieldset.add_field(Kz)"
   ]
  },
  {
   "cell_type": "code",
   "execution_count": null,
   "metadata": {},
   "outputs": [],
   "source": [
    "#Start with random distribution\n",
    "lon_g = np.random.uniform(low=lon[0], high=lon[-1], size=(int(N),))\n",
    "depth_g = np.random.uniform(low=depth[0], high=depth[-1], size=(int(N),))\n",
    "lat_g = np.zeros(int(N),)"
   ]
  },
  {
   "cell_type": "code",
   "execution_count": null,
   "metadata": {},
   "outputs": [],
   "source": [
    "def run_turb_test(lon_g,depth_g):\n",
    "    pset = ParticleSet(fieldset, pclass=MPParticle, lon=lon_g, depth=depth_g,lat = lat_g)\n",
    "    output_file = pset.ParticleFile(name=outputpath, outputdt=outputdt)\n",
    "    KE = tu_swim + pset.Kernel(tu_mix) #if you want to add more kernels use:  KE = tu_mix + NAME_KERNEL1 + ...\n",
    "    pset.execute(KE , runtime=T, dt=dt, output_file=output_file,recovery={ErrorCode.ErrorOutOfBounds: DeleteParticle})"
   ]
  },
  {
   "cell_type": "code",
   "execution_count": null,
   "metadata": {},
   "outputs": [],
   "source": [
    "run_turb_test(lon_g,depth_g)"
   ]
  },
  {
   "cell_type": "markdown",
   "metadata": {},
   "source": [
    "Load data"
   ]
  },
  {
   "cell_type": "code",
   "execution_count": null,
   "metadata": {},
   "outputs": [],
   "source": [
    "dat = xr.load_dataset('/ocean/mattmiller/MOAD/results/parcels/test/Outputmix_sink_and_swim.zarr')\n",
    "#dat = xr.load_dataset('/ocean/mattmiller/MOAD/results/parcels/test/Outputmix_no_sink.zarr')\n",
    "#dat = xr.load_dataset('/ocean/mattmiller/MOAD/results/parcels/test/Outputmix_passive_particles.zarr')"
   ]
  },
  {
   "cell_type": "markdown",
   "metadata": {},
   "source": [
    "Plots"
   ]
  },
  {
   "cell_type": "code",
   "execution_count": null,
   "metadata": {},
   "outputs": [],
   "source": [
    "binwidths = [10, 15, 25, 25, 25, 50, 100]\n",
    "counts, bins = np.histogram(dat.z[:, 0], bins = [0, 10, 25, 50, 75, 100, 150, 250])\n",
    "plt.stairs((counts/binwidths)/sum(counts/binwidths), bins)\n",
    "plt.xticks([0, 10, 25, 50, 75, 100, 150, 250])\n",
    "plt.yticks(np.arange(0, 1.1, 0.1))\n",
    "plt.xlabel('Depth (m)')\n",
    "plt.ylabel('Relative Particle Abundance')\n",
    "counts[0]"
   ]
  },
  {
   "cell_type": "code",
   "execution_count": null,
   "metadata": {},
   "outputs": [],
   "source": [
    "# No sinking\n",
    "binwidths = [10, 15, 25, 25, 25, 50, 100]\n",
    "counts, bins = np.histogram(dat.z[:, -1], bins = [0, 10, 25, 50, 75, 100, 150, 250])\n",
    "plt.stairs((counts/binwidths)/sum(counts/binwidths), bins)\n",
    "plt.xticks([0, 10, 25, 50, 75, 100, 150, 250])\n",
    "plt.yticks(np.arange(0, 1.1, 0.1))\n",
    "plt.xlabel('Depth (m)')\n",
    "plt.ylabel('Relative Particle Abundance')\n",
    "counts[0]"
   ]
  },
  {
   "cell_type": "code",
   "execution_count": null,
   "metadata": {},
   "outputs": [],
   "source": [
    "# sink_and_swim\n",
    "binwidths = [10, 15, 25, 25, 25, 50, 100]\n",
    "counts, bins = np.histogram(dat.z[:, -1], bins = [0, 10, 25, 50, 75, 100, 150, 250])\n",
    "plt.stairs((counts/binwidths)/sum(counts/binwidths), bins)\n",
    "plt.xticks([0, 10, 25, 50, 75, 100, 150, 250])\n",
    "plt.yticks(np.arange(0, 1.1, 0.1))\n",
    "plt.xlabel('Depth (m)')\n",
    "plt.ylabel('Relative Particle Abundance')\n",
    "counts[0]"
   ]
  },
  {
   "cell_type": "code",
   "execution_count": null,
   "metadata": {},
   "outputs": [],
   "source": [
    "# sink_and_swim - initial timestep\n",
    "counts, bins = np.histogram(dat.z[:, 0], bins=[0, 10, 25, 50, 75, 100, 150, 250]) # Calculate the counts and bins for the histogram\n",
    "bin_centers = [0,  10,  25,  50,  75, 100, 150] # Calculate the bin centers (for placing bins on the y-axis\n",
    "binwidths = np.diff(bins) #[10, 15, 25, 25, 25, 50, 100] # Define the binwidths\n",
    "relative_abundance = (counts/binwidths)/sum(counts/binwidths) # Calculate the relative particle abundance\n",
    "vertical_dist_medians = [0.350311667, 0.239004743, 0.113561039, 0.025229733, 0.007112793, 0.002542321, 0.003152159]\n",
    "tstamp = dat.time[0, 0].values.astype('timedelta64[ns]').astype(datetime)\n",
    "\n",
    "fig, (ax1, ax2) = plt.subplots(1,2,figsize=(10,8))\n",
    "ax1.scatter(dat.lon[:,0],dat.z[:,0],s=3,c ='tab:blue')\n",
    "ax1.set_yticks(bins, bins) # Set the tick positions and labels for the y-axis\n",
    "ax1.set_ylim(0, 250)\n",
    "ax1.invert_yaxis()\n",
    "ax1.xaxis.tick_top()\n",
    "ax1.xaxis.set_label_position('top')\n",
    "ax1.set_xlabel('Lon')\n",
    "ax1.set_ylabel('Depth (m)')\n",
    "ax1.text(x = 0.02, y = -0.03, s = tstamp, transform=ax1.transAxes)\n",
    "ax2.barh(bin_centers, relative_abundance, label = 'particle dist', height=binwidths, align='edge', color='tab:blue') # Create the histogram with bins on the y-axis and counts on the x-axis\n",
    "ax2.barh(bin_centers, vertical_dist_medians, label = 'reference dist', height=binwidths, align='edge', color='none', edgecolor ='r') # Plot reference vertical distribution\n",
    "ax2.set_yticks(bins, bins) # Set the tick positions and labels for the y-axis\n",
    "ax2.set_ylim(0, 250)\n",
    "ax2.invert_yaxis()\n",
    "ax2.set_xticks(np.arange(0, 1.1, 0.1)) # Set the tick positions and labels for the x-axis\n",
    "ax2.xaxis.tick_top()\n",
    "ax2.xaxis.set_label_position('top')\n",
    "ax2.set_xlabel('Relative Particle Abundance') # Add labels and title\n",
    "ax2.set_ylabel('Depth (m)')\n",
    "ax2.text(x = 0.02, y = -0.03, s = tstamp, transform=ax2.transAxes)\n",
    "ax2.legend()\n",
    "plt.suptitle('Sink and Swim')"
   ]
  },
  {
   "cell_type": "code",
   "execution_count": null,
   "metadata": {},
   "outputs": [],
   "source": [
    "# sink_and_swim - final timestep\n",
    "counts, bins = np.histogram(dat.z[:, -1], bins=[0, 10, 25, 50, 75, 100, 150, 250]) # Calculate the counts and bins for the histogram\n",
    "bin_centers = [0,  10,  25,  50,  75, 100, 150] # Calculate the bin centers (for placing bins on the y-axis\n",
    "binwidths = np.diff(bins) #[10, 15, 25, 25, 25, 50, 100] # Define the binwidths\n",
    "relative_abundance = (counts/binwidths)/sum(counts/binwidths) # Calculate the relative particle abundance\n",
    "vertical_dist_medians = [0.350311667, 0.239004743, 0.113561039, 0.025229733, 0.007112793, 0.002542321, 0.003152159]\n",
    "tstamp = dat.time[0, -1].values.astype('timedelta64[ns]').astype(datetime)\n",
    "\n",
    "fig, (ax1, ax2) = plt.subplots(1,2,figsize=(10,8))\n",
    "ax1.scatter(dat.lon[:,-1],dat.z[:,-1],s=3,c ='tab:blue')\n",
    "ax1.set_yticks(bins, bins) # Set the tick positions and labels for the y-axis\n",
    "ax1.set_ylim(0, 250)\n",
    "ax1.invert_yaxis()\n",
    "ax1.xaxis.tick_top()\n",
    "ax1.xaxis.set_label_position('top')\n",
    "ax1.set_xlabel('Lon')\n",
    "ax1.set_ylabel('Depth (m)')\n",
    "ax1.text(x = 0.02, y = -0.03, s = tstamp, transform=ax1.transAxes)\n",
    "ax2.barh(bin_centers, relative_abundance, label = 'particle dist', height=binwidths, align='edge', color='tab:blue') # Create the histogram with bins on the y-axis and counts on the x-axis\n",
    "ax2.barh(bin_centers, vertical_dist_medians, label = 'reference dist', height=binwidths, align='edge', color='none', edgecolor ='r') # Plot reference vertical distribution\n",
    "ax2.set_yticks(bins, bins) # Set the tick positions and labels for the y-axis\n",
    "ax2.set_ylim(0, 250)\n",
    "ax2.invert_yaxis()\n",
    "ax2.set_xticks(np.arange(0, 1.1, 0.1)) # Set the tick positions and labels for the x-axis\n",
    "ax2.xaxis.tick_top()\n",
    "ax2.xaxis.set_label_position('top')\n",
    "ax2.set_xlabel('Relative Particle Abundance') # Add labels and title\n",
    "ax2.set_ylabel('Depth (m)')\n",
    "ax2.text(x = 0.02, y = -0.03, s = tstamp, transform=ax2.transAxes)\n",
    "ax2.legend()\n",
    "plt.suptitle('Sink and Swim')"
   ]
  },
  {
   "cell_type": "code",
   "execution_count": null,
   "metadata": {},
   "outputs": [],
   "source": [
    "fig, ax = plt.subplots(1, 1)\n",
    "ax.hist(dat.z[:, 0], bins = [0, 10, 25, 50, 75, 100, 150, 250], alpha=0.2, label='Start');\n",
    "ax.hist(dat.z[:, 250], bins = [0, 10, 25, 50, 75, 100, 150, 250], alpha=0.2, label='1.2e5s');\n",
    "ax.hist(dat.z[:, 500], bins = [0, 10, 25, 50, 75, 100, 150, 250], alpha=0.2, label='2.5e5s');\n",
    "ax.hist(dat.z[:, 750], bins = [0, 10, 25, 50, 75, 100, 150, 250], alpha=0.2, label='3.8e5s');\n",
    "ax.hist(dat.z[:, 1000], bins = [0, 10, 25, 50, 75, 100, 150, 250], alpha=0.2, label='5e5s');\n",
    "ax.legend();\n",
    "ax.set_xlabel('Depth (m)')\n",
    "ax.set_ylabel('Counts, 10000 total');"
   ]
  },
  {
   "cell_type": "code",
   "execution_count": null,
   "metadata": {},
   "outputs": [],
   "source": [
    "fig, ax = plt.subplots(1, 1)\n",
    "ax.hist(dat.z[:, 0], alpha=0.2, label='Start');\n",
    "ax.hist(dat.z[:, 250], alpha=0.2, label='1.2e5s');\n",
    "ax.hist(dat.z[:, 500], alpha=0.2, label='2.5e5s');\n",
    "ax.hist(dat.z[:, 750], alpha=0.2, label='3.8e5s');\n",
    "ax.hist(dat.z[:, 1000], alpha=0.2, label='5e5s');\n",
    "ax.legend();\n",
    "ax.set_xlabel('Depth (m)')\n",
    "ax.set_ylabel('Counts, 10000 total');"
   ]
  },
  {
   "cell_type": "markdown",
   "metadata": {},
   "source": [
    "View data"
   ]
  },
  {
   "cell_type": "code",
   "execution_count": null,
   "metadata": {},
   "outputs": [],
   "source": [
    "print(dat)"
   ]
  },
  {
   "attachments": {},
   "cell_type": "markdown",
   "metadata": {},
   "source": [
    "Animations"
   ]
  },
  {
   "cell_type": "code",
   "execution_count": null,
   "metadata": {},
   "outputs": [],
   "source": [
    "def anim(dat,fps=1):  \n",
    "    fig, axs = plt.subplots(1,1,figsize=(5,10))\n",
    "    axs.invert_yaxis()\n",
    "    axs.set_title('Sink and Swim')\n",
    "    axs.set_ylabel('Depth (m)')\n",
    "\n",
    "    def update(frame):           \n",
    "        global ss        \n",
    "        for scat in ss:              \n",
    "            scat.remove()            \n",
    "        ss =[]                    \n",
    "        ss.append(axs.scatter(dat.lon[:,frame],dat.z[:,frame],s=3,c ='tab:blue'))                     \n",
    "        print(f'{frame/len(dat):.2f}% completed')           \n",
    "        return ss\n",
    "    return animation.FuncAnimation(fig, update, frames=np.arange(0,1000,fps), interval=1)"
   ]
  },
  {
   "cell_type": "code",
   "execution_count": null,
   "metadata": {},
   "outputs": [],
   "source": [
    "ss =[]\n",
    "ani = anim(dat,fps=1)\n",
    "f = r'/ocean/mattmiller/MOAD/results/parcels/test/_1.gif'\n",
    "FFwriter = animation.FFMpegWriter()\n",
    "ani.save(f, writer = FFwriter)"
   ]
  },
  {
   "cell_type": "code",
   "execution_count": null,
   "metadata": {},
   "outputs": [],
   "source": [
    "from IPython.display import Image\n",
    "with open(f,'rb') as anim:\n",
    "     display(Image(anim.read()))"
   ]
  },
  {
   "cell_type": "code",
   "execution_count": null,
   "metadata": {},
   "outputs": [],
   "source": [
    "fig, axs=plt.subplots(1,1,figsize=(5,10))\n",
    "axs.scatter(dat.lon[:,-1],dat.z[:,-1],s=3) # s = point size\n",
    "#axs.plot(box[0],box[1],c='grey',linewidth=3)\n",
    "axs.invert_yaxis()\n",
    "axs.set_title('Sink and Swim')\n",
    "axs.set_ylabel('Depth (m)')"
   ]
  },
  {
   "cell_type": "code",
   "execution_count": null,
   "metadata": {},
   "outputs": [],
   "source": [
    "\n",
    "def anim(dat,fps=1):  \n",
    "    fig, axs = plt.subplots(1,1,figsize=(5,10))\n",
    "    binwidths = [10, 15, 25, 25, 25, 50, 100] # Define the binwidths\n",
    "    bin_centers = [0,  10,  25,  50,  75, 100, 150]\n",
    "    vertical_dist_medians = [0.350311667, 0.239004743, 0.113561039, 0.025229733, 0.007112793, 0.002542321, 0.003152159]\n",
    "    axs.set_ylim(0, 250)\n",
    "    axs.invert_yaxis() # flip y-axis\n",
    "    axs.set_yticks([0, 10, 25, 50, 75, 100, 150, 250]) # Set the tick positions and labels for the y-axis\n",
    "    axs.set_xticks(np.arange(0, 1.1, 0.1))\n",
    "    axs.xaxis.set_ticks_position('top') # Move the x-axis to the top\n",
    "    axs.xaxis.set_label_position('top')\n",
    "    axs.set_xlabel('Relative Particle Abundance') # Add labels and title\n",
    "    axs.set_ylabel('Depth (m)')\n",
    "    plt.suptitle('Sink and Swim')\n",
    "\n",
    "    def update(frame):           \n",
    "        global ss        \n",
    "        for scat in ss:              \n",
    "            scat.remove()            \n",
    "        ss =[]        \n",
    "        tstamp = dat.time[0, frame].values.astype('timedelta64[ns]').astype(datetime)\n",
    "        counts, bins = np.histogram(dat.z[:, frame], bins=[0, 10, 25, 50, 75, 100, 150, 250]) # Calculate the counts and bins for the histogram            \n",
    "        relative_abundance = (counts/binwidths)/sum(counts/binwidths) # Calculate the relative particle abundance\n",
    "        ss.append(axs.barh(bin_centers, relative_abundance, label = 'particle dist', height=np.diff(bins), align='edge', color = 'tab:blue'))                             \n",
    "        ss.append(axs.barh(bin_centers, vertical_dist_medians, label = 'reference dist', height=np.diff(bins), align='edge', color = 'none', edgecolor = 'r'))\n",
    "        ss.append(axs.text(x = 0.02, y = -0.03, s = tstamp, transform=axs.transAxes))\n",
    "        ss.append(axs.legend())\n",
    "        print(f'{frame/len(dat.z.obs)*100:.2f}% completed')           \n",
    "        return ss\n",
    "    return animation.FuncAnimation(fig, update, frames=np.arange(0,len(dat.z.obs)-1,fps), interval=1)"
   ]
  },
  {
   "cell_type": "code",
   "execution_count": null,
   "metadata": {},
   "outputs": [],
   "source": [
    "ss =[]\n",
    "ani = anim(dat,fps=1)\n",
    "f = r'/ocean/mattmiller/MOAD/results/parcels/test/_1.gif'\n",
    "FFwriter = animation.FFMpegWriter()\n",
    "ani.save(f, writer = FFwriter)"
   ]
  },
  {
   "cell_type": "code",
   "execution_count": null,
   "metadata": {},
   "outputs": [],
   "source": [
    "from IPython.display import Image\n",
    "with open(f,'rb') as anim:\n",
    "     display(Image(anim.read()))"
   ]
  },
  {
   "cell_type": "code",
   "execution_count": null,
   "metadata": {},
   "outputs": [],
   "source": [
    "def anim(dat,fps=1):  \n",
    "    fig, (ax1, ax2) = plt.subplots(1,2,figsize=(10,8))\n",
    "    ax1.set_ylim(0,250)\n",
    "    ax1.set_yticks([0, 10, 25, 50, 75, 100, 150, 250])\n",
    "    ax1.invert_yaxis()\n",
    "    ax1.xaxis.tick_top()\n",
    "    ax1.xaxis.set_label_position('top')\n",
    "    ax1.set_xlabel('Lon')\n",
    "    ax1.set_ylabel('Depth (m)')\n",
    "    ax2.set_ylim(0,250)\n",
    "    ax2.invert_yaxis()\n",
    "    ax2.set_yticks([0, 10, 25, 50, 75, 100, 150, 250]) # Set the tick positions and labels for the y-axis\n",
    "    ax2.xaxis.tick_top()\n",
    "    ax2.xaxis.set_label_position('top')\n",
    "    ax2.set_xticks(np.arange(0, 1.1, 0.1)) # Set the tick positions and labels for the x-axis\n",
    "    ax2.set_xlabel('Relative Particle Abundance') # Add labels and title\n",
    "    ax2.set_ylabel('Depth (m)')\n",
    "    plt.suptitle('Sink and Swim')\n",
    "\n",
    "    bin_centers = [0,  10,  25,  50,  75, 100, 150] # Calculate the bin centers (for placing bins on the y-axis)\n",
    "    binwidths = np.diff([0, 10, 25, 50, 75, 100, 150, 250]) # Define the binwidths\n",
    "    vertical_dist_medians = [0.350311667, 0.239004743, 0.113561039, 0.025229733, 0.007112793, 0.002542321, 0.003152159]\n",
    "\n",
    "    def update(frame):           \n",
    "        global ss        \n",
    "        for scat in ss:              \n",
    "            scat.remove()            \n",
    "        ss =[]        \n",
    "        ss.append(ax1.scatter(dat.lon[:,frame],dat.z[:,frame],s=3,c ='tab:blue')) \n",
    "        tstamp = dat.time[0, frame].values.astype('timedelta64[ns]').astype(datetime)\n",
    "        ss.append(ax1.text(x = 0.02, y = -0.03, s = tstamp, transform=ax1.transAxes))\n",
    "        counts, bins = np.histogram(dat.z[:,frame], bins=[0, 10, 25, 50, 75, 100, 150, 250]) # Calculate the counts and bins for the histogram            \n",
    "        relative_abundance = (counts/binwidths)/sum(counts/binwidths) # Calculate the relative particle abundance\n",
    "        ss.append(ax2.barh(bin_centers, relative_abundance, label = 'particle dist', height=binwidths, align='edge', color='tab:blue'))                             \n",
    "        ss.append(ax2.barh(bin_centers, vertical_dist_medians, label = 'reference dist', height=binwidths, align='edge', color='none', edgecolor ='r'))\n",
    "        ss.append(ax2.text(x = 0.02, y = -0.03, s = tstamp, transform=ax2.transAxes))\n",
    "        ss.append(ax2.legend())\n",
    "        print(f'{frame/len(dat.z.obs)*100:.2f}% completed')           \n",
    "        return ss\n",
    "    return animation.FuncAnimation(fig, update, frames=np.arange(0,len(dat.z.obs)-1,fps), interval=1)"
   ]
  },
  {
   "cell_type": "code",
   "execution_count": null,
   "metadata": {},
   "outputs": [],
   "source": [
    "ss =[]\n",
    "ani = anim(dat,fps=1)\n",
    "f = r'/ocean/mattmiller/MOAD/results/parcels/test/sink_and_swim.gif'\n",
    "FFwriter = animation.FFMpegWriter()\n",
    "ani.save(f, writer = FFwriter)"
   ]
  },
  {
   "cell_type": "code",
   "execution_count": null,
   "metadata": {},
   "outputs": [],
   "source": [
    "from IPython.display import Image\n",
    "with open(f,'rb') as anim:\n",
    "     display(Image(anim.read()))"
   ]
  },
  {
   "cell_type": "code",
   "execution_count": null,
   "metadata": {},
   "outputs": [],
   "source": [
    "len(dat.z.obs)-1"
   ]
  },
  {
   "cell_type": "code",
   "execution_count": null,
   "metadata": {},
   "outputs": [],
   "source": []
  }
 ],
 "metadata": {
  "kernelspec": {
   "display_name": "Python 3 (ipykernel)",
   "language": "python",
   "name": "python3"
  },
  "language_info": {
   "codemirror_mode": {
    "name": "ipython",
    "version": 3
   },
   "file_extension": ".py",
   "mimetype": "text/x-python",
   "name": "python",
   "nbconvert_exporter": "python",
   "pygments_lexer": "ipython3",
   "version": "3.10.9"
  },
  "vscode": {
   "interpreter": {
    "hash": "5231541ec7da1806fd4dd02418819151069191aae488b983f94d003ad3b768ff"
   }
  }
 },
 "nbformat": 4,
 "nbformat_minor": 4
}
